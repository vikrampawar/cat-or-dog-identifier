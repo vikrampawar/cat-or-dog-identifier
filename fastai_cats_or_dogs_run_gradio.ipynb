{
 "cells": [
  {
   "cell_type": "markdown",
   "id": "85991368-6d68-452d-9bbc-f2628d3421fc",
   "metadata": {},
   "source": [
    "# Fastai Cats or Dogs - Web App\n",
    "\n",
    "In this notebooks, we'll recreate the model from the exported `model.pkl` file.\n",
    "Then, we'll create a simple web application using [gradio](https://www.gradio.app/docs/client).\n",
    "\n"
   ]
  },
  {
   "cell_type": "code",
   "execution_count": null,
   "id": "7b0a9c35-a7be-4bfc-9f3d-7a464dfacfbf",
   "metadata": {},
   "outputs": [],
   "source": [
    "![ -e 'model.pkl' ] && echo 'model.pkl exists'\n"
   ]
  },
  {
   "cell_type": "markdown",
   "id": "7bf6bd76",
   "metadata": {},
   "source": [
    "We'll have to define `is_cat()` function as it's not part of the model."
   ]
  },
  {
   "cell_type": "code",
   "execution_count": 136,
   "id": "22470fe0-1962-4fc1-afcc-5f59773f8167",
   "metadata": {},
   "outputs": [],
   "source": [
    "from fastai.vision.all import *\n",
    "\n",
    "# determines if it's a cat from first letter\n",
    "def is_cat(x): return x[0].isupper() \n",
    "\n",
    "# load the model \n",
    "learn = load_learner('model.pkl')"
   ]
  },
  {
   "cell_type": "markdown",
   "id": "07373b14-863e-40b2-b86a-4582d51d596a",
   "metadata": {},
   "source": [
    "Get the labels from the model. Define the predict function."
   ]
  },
  {
   "cell_type": "code",
   "execution_count": 142,
   "id": "6df5431f-3c3a-4369-97b5-56bc35963830",
   "metadata": {},
   "outputs": [],
   "source": [
    "categories = ('Dog', 'Cat')\n",
    "\n",
    "def predict(img):\n",
    "    pred,pred_idx,probs = learn.predict(img)\n",
    "    return dict(zip(categories, map(float, probs)))"
   ]
  },
  {
   "cell_type": "markdown",
   "id": "7ae2a47d-59e0-41ac-9935-acbf5cb69add",
   "metadata": {},
   "source": [
    "Create the gradio interface"
   ]
  },
  {
   "cell_type": "code",
   "execution_count": null,
   "id": "9305fa36",
   "metadata": {},
   "outputs": [],
   "source": [
    "# install gradio if it's not already installed\n",
    "!pip install gradio"
   ]
  },
  {
   "cell_type": "code",
   "execution_count": 147,
   "id": "63a6bd4e-2e04-47e2-98cd-761bc3146ef8",
   "metadata": {},
   "outputs": [
    {
     "name": "stdout",
     "output_type": "stream",
     "text": [
      "Running on local URL:  http://127.0.0.1:7863\n",
      "\n",
      "To create a public link, set `share=True` in `launch()`.\n"
     ]
    },
    {
     "data": {
      "text/html": [
       "<div><iframe src=\"http://127.0.0.1:7863/\" width=\"100%\" height=\"500\" allow=\"autoplay; camera; microphone; clipboard-read; clipboard-write;\" frameborder=\"0\" allowfullscreen></iframe></div>"
      ],
      "text/plain": [
       "<IPython.core.display.HTML object>"
      ]
     },
     "metadata": {},
     "output_type": "display_data"
    },
    {
     "data": {
      "text/plain": []
     },
     "execution_count": 147,
     "metadata": {},
     "output_type": "execute_result"
    }
   ],
   "source": [
    "import gradio as gr\n",
    "\n",
    "# show it in a gradio interface\n",
    "examples = [ 'cat1.png', 'dog1.png', 'python1.png']\n",
    "gr.Interface(fn=predict, inputs=gr.Image(), outputs=gr.Label(), examples=examples).launch()\n",
    "\n"
   ]
  }
 ],
 "metadata": {
  "kernelspec": {
   "display_name": "Python 3 (ipykernel)",
   "language": "python",
   "name": "python3"
  },
  "language_info": {
   "codemirror_mode": {
    "name": "ipython",
    "version": 3
   },
   "file_extension": ".py",
   "mimetype": "text/x-python",
   "name": "python",
   "nbconvert_exporter": "python",
   "pygments_lexer": "ipython3",
   "version": "3.11.6"
  }
 },
 "nbformat": 4,
 "nbformat_minor": 5
}
